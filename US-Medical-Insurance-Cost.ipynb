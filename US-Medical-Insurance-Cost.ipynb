{
 "cells": [
  {
   "attachments": {},
   "cell_type": "markdown",
   "id": "92113bf8-6509-4312-98ef-4cef8cb6bbbd",
   "metadata": {
    "tags": []
   },
   "source": [
    "# US Medical Insurance Cost"
   ]
  },
  {
   "cell_type": "code",
   "execution_count": 1,
   "id": "c66343c7",
   "metadata": {},
   "outputs": [],
   "source": [
    "import csv\n",
    "import pandas as pd"
   ]
  },
  {
   "cell_type": "code",
   "execution_count": 2,
   "id": "b8a34b35-2a89-42bb-8376-6ad5375c7676",
   "metadata": {
    "tags": []
   },
   "outputs": [],
   "source": [
    "ages = []\n",
    "sexes = []\n",
    "bmis = []\n",
    "childrens = []\n",
    "smokers = []\n",
    "regions = []\n",
    "charges = []"
   ]
  },
  {
   "attachments": {},
   "cell_type": "markdown",
   "id": "acaeae2e",
   "metadata": {},
   "source": [
    "### Load data into lists"
   ]
  },
  {
   "cell_type": "code",
   "execution_count": 3,
   "id": "52cbc81e",
   "metadata": {},
   "outputs": [],
   "source": [
    "with open(\"insurance.csv\") as file:\n",
    "  fileDict = csv.DictReader(file)\n",
    "  for row in fileDict:\n",
    "    ages.append(row[\"age\"])\n",
    "    sexes.append(row[\"sex\"])\n",
    "    bmis.append(row[\"bmi\"])\n",
    "    childrens.append(row[\"children\"])\n",
    "    smokers.append(row[\"smoker\"])\n",
    "    regions.append(row[\"region\"])\n",
    "    charges.append(row[\"charges\"])"
   ]
  },
  {
   "attachments": {},
   "cell_type": "markdown",
   "id": "5d842c87",
   "metadata": {},
   "source": [
    "### Average age of patient"
   ]
  },
  {
   "cell_type": "code",
   "execution_count": 20,
   "id": "7edbaa6b",
   "metadata": {},
   "outputs": [],
   "source": [
    "def average_age_of_patients():\n",
    "  total_age = 0\n",
    "  for age in ages:\n",
    "    total_age += int(age)\n",
    "\n",
    "  patient_average_age = total_age / len(ages)\n",
    "  print(\"Patient's average age is: {} years.\".format(round(patient_average_age)))"
   ]
  },
  {
   "attachments": {},
   "cell_type": "markdown",
   "id": "0504ae7f",
   "metadata": {},
   "source": [
    "### Region Count"
   ]
  },
  {
   "cell_type": "code",
   "execution_count": 10,
   "id": "c3826d73",
   "metadata": {},
   "outputs": [],
   "source": [
    "def get_regions():\n",
    "    regions_set = set(regions)\n",
    "\n",
    "    for region in regions_set:\n",
    "        print(\"{} patients from {} region.\".format(str(regions.count(region)), region))"
   ]
  },
  {
   "attachments": {},
   "cell_type": "markdown",
   "id": "65b21ef5",
   "metadata": {},
   "source": [
    "### Cost difference between Smokers and Non-smokers"
   ]
  },
  {
   "cell_type": "code",
   "execution_count": 24,
   "id": "53f9790c",
   "metadata": {},
   "outputs": [],
   "source": [
    "def get_smokers_vs_non_smokers():\n",
    "    smokers_total_cost = 0\n",
    "    total_number_of_smokers = 0\n",
    "    non_smokers_total_cost = 0\n",
    "    total_number_of_non_smokers = 0\n",
    "\n",
    "    for i in range(len(smokers)):\n",
    "        if smokers[i] == \"yes\":\n",
    "            smokers_total_cost += float(charges[i])\n",
    "            total_number_of_smokers += 1\n",
    "        else:\n",
    "            non_smokers_total_cost += float(charges[i])\n",
    "            total_number_of_non_smokers += 1\n",
    "\n",
    "    print(\"Smokers: {} \\t\\t Total Cost: {} \\t Average: {}\".format(total_number_of_smokers, round(smokers_total_cost, 2), round(smokers_total_cost / total_number_of_smokers, 2)))\n",
    "    print(\"Non-Smokers: {} \\t Total Cost: {} \\t Average: {}\".format(total_number_of_non_smokers, round(non_smokers_total_cost, 2), round(non_smokers_total_cost / total_number_of_non_smokers, 2)))"
   ]
  },
  {
   "attachments": {},
   "cell_type": "markdown",
   "id": "4f33e213",
   "metadata": {},
   "source": [
    "### Average age of person with atleast 1 child"
   ]
  },
  {
   "cell_type": "code",
   "execution_count": 18,
   "id": "a5534b89",
   "metadata": {},
   "outputs": [],
   "source": [
    "def get_average_age_of_parents():\n",
    "  total_age_of_parents = 0\n",
    "  total_parents = 0\n",
    "\n",
    "  for i in range(len(ages)):\n",
    "    if childrens[i] != \"0\":\n",
    "      total_age_of_parents += int(ages[i])\n",
    "      total_parents += 1\n",
    "\n",
    "  print(\"Total Patients: {} \\t Total Parents: {} \\t Average Age: {}\".format(len(ages), total_parents, round(total_age_of_parents / total_parents)))"
   ]
  },
  {
   "attachments": {},
   "cell_type": "markdown",
   "id": "fee8738c",
   "metadata": {},
   "source": [
    "### Male / Female Count"
   ]
  },
  {
   "cell_type": "code",
   "execution_count": 13,
   "id": "96084aac",
   "metadata": {},
   "outputs": [],
   "source": [
    "def get_male_female_count():\n",
    "    total_males = 0\n",
    "    total_females = 0\n",
    "\n",
    "    for i in range(len(sexes)):\n",
    "        if sexes[i] == \"female\":\n",
    "            total_females += 1\n",
    "        else:\n",
    "            total_males += 1\n",
    "\n",
    "    print(\"Total females: {} \\t Total males: {}\".format(total_females, total_males))"
   ]
  },
  {
   "cell_type": "code",
   "execution_count": 25,
   "id": "cfee533e",
   "metadata": {},
   "outputs": [
    {
     "name": "stdout",
     "output_type": "stream",
     "text": [
      "Patient's average age is: 39 years.\n",
      "\n",
      "325 patients from northwest region.\n",
      "364 patients from southeast region.\n",
      "325 patients from southwest region.\n",
      "324 patients from northeast region.\n",
      " \n",
      "Smokers: 274 \t\t Total Cost: 8781763.52 \t Average: 32050.23\n",
      "Non-Smokers: 1064 \t Total Cost: 8974061.47 \t Average: 8434.27\n",
      " \n",
      "Total Patients: 1338 \t Total Parents: 764 \t Average Age: 40.0\n",
      " \n",
      "Total females: 662 \t Total males: 676\n"
     ]
    }
   ],
   "source": [
    "average_age_of_patients()\n",
    "print(\"\")\n",
    "get_regions()\n",
    "print(\" \")\n",
    "get_smokers_vs_non_smokers()\n",
    "print(\" \")\n",
    "get_average_age_of_parents()\n",
    "print(\" \")\n",
    "get_male_female_count()"
   ]
  }
 ],
 "metadata": {
  "kernelspec": {
   "display_name": "Python 3",
   "language": "python",
   "name": "python3"
  },
  "language_info": {
   "codemirror_mode": {
    "name": "ipython",
    "version": 3
   },
   "file_extension": ".py",
   "mimetype": "text/x-python",
   "name": "python",
   "nbconvert_exporter": "python",
   "pygments_lexer": "ipython3",
   "version": "3.11.1"
  },
  "vscode": {
   "interpreter": {
    "hash": "aee8b7b246df8f9039afb4144a1f6fd8d2ca17a180786b69acc140d282b71a49"
   }
  }
 },
 "nbformat": 4,
 "nbformat_minor": 5
}
